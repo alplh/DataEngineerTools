{
 "cells": [
  {
   "cell_type": "markdown",
   "metadata": {},
   "source": [
    "# Introduction"
   ]
  },
  {
   "cell_type": "markdown",
   "metadata": {},
   "source": [
    "Aujourd'hui la plupart des sites web utilisent du JavaScript pour rendre le site plus dynamique et agréable mais aussi pour afficher la données. \n",
    "\n",
    "Pour ces sites, la première méthode abordée n'est pas efficace, car de nombreuses requêtes sont utilisées pour se connecter, afficher la donnée, naviguer, il faudrait prendre en compte toutes ces requêtes et les assembler pour simuler le comportement du site. \n",
    "\n",
    "**C'est le comportement de votre navigateur**, il compile toutes les interactions, les requêtes et génère du HTML permettant d'afficher l'interface graphique d'un site web.\n",
    "\n",
    "Pour palier ce problème on peut laisser le navigateur faire son travail et contrôler sa surcouche logiciel. Pour cela on peut prendre le contrôle d'un navigateur comme Chrome, Edge, Firefox ou Safari depuis un script Python. \n",
    "\n",
    "Pour cela, nous allons utiliser un package Python `Selenium` https://selenium-python.readthedocs.io/ qui permet d'instancier un navigateur et de le contrôler. Sélénium est beaucoup utilisé pour générer des tests automatiques de sites web. \n",
    "\n",
    "On peut trouver les drivers des différents browser : \n",
    "- Chrome:\thttps://sites.google.com/a/chromium.org/chromedriver/downloads\n",
    "- Edge:\thttps://developer.microsoft.com/en-us/microsoft-edge/tools/webdriver/\n",
    "- Firefox:\thttps://github.com/mozilla/geckodriver/releases\n",
    "- Safari:\thttps://webkit.org/blog/6900/webdriver-support-in-safari-10/\n",
    "\n",
    "***\n",
    "<p>今天，大多数网站都使用JavaScript来使网站更加动态和令人愉快，但也用于显示数据。\n",
    "\n",
    "对于这些网站，所讨论的第一种方法是无效的，因为许多请求是用来连接、显示数据、导航的，它应该考虑到所有这些请求，并将它们组合起来，以模拟网站的行为。\n",
    "\n",
    "**这是你的浏览器的行为**，它编译所有的互动、请求并生成HTML，使网站的图形界面得以显示。\n",
    "\n",
    "为了克服这个问题，我们可以让浏览器做它的工作，控制它的软件叠加。要做到这一点，我们可以从Python脚本中控制一个浏览器，如Chrome、Edge、Firefox或Safari。\n",
    "\n",
    "为了做到这一点，我们将使用一个Python包`Selenium`https://selenium-python.readthedocs.io/，它允许你实例化一个浏览器并控制它。Selenium被大量用于为网站生成自动测试。</p>\n"
   ]
  },
  {
   "cell_type": "code",
   "execution_count": 18,
   "metadata": {},
   "outputs": [
    {
     "name": "stdout",
     "output_type": "stream",
     "text": [
      "Requirement already satisfied: selenium in d:\\anaconda\\lib\\site-packages (4.0.0)\n",
      "Requirement already satisfied: trio~=0.17 in d:\\anaconda\\lib\\site-packages (from selenium) (0.19.0)\n",
      "Requirement already satisfied: urllib3[secure]~=1.26 in d:\\anaconda\\lib\\site-packages (from selenium) (1.26.6)\n",
      "Requirement already satisfied: trio-websocket~=0.9 in d:\\anaconda\\lib\\site-packages (from selenium) (0.9.2)\n",
      "Requirement already satisfied: sortedcontainers in d:\\anaconda\\lib\\site-packages (from trio~=0.17->selenium) (2.2.2)\n",
      "Requirement already satisfied: async-generator>=1.9 in d:\\anaconda\\lib\\site-packages (from trio~=0.17->selenium) (1.10)\n",
      "Requirement already satisfied: idna in d:\\anaconda\\lib\\site-packages (from trio~=0.17->selenium) (3.2)\n",
      "Requirement already satisfied: outcome in d:\\anaconda\\lib\\site-packages (from trio~=0.17->selenium) (1.1.0)\n",
      "Requirement already satisfied: sniffio in d:\\anaconda\\lib\\site-packages (from trio~=0.17->selenium) (1.2.0)\n",
      "Requirement already satisfied: attrs>=19.2.0 in d:\\anaconda\\lib\\site-packages (from trio~=0.17->selenium) (21.2.0)\n",
      "Requirement already satisfied: cffi>=1.14; os_name == \"nt\" and implementation_name != \"pypy\" in d:\\anaconda\\lib\\site-packages (from trio~=0.17->selenium) (1.14.3)\n",
      "Requirement already satisfied: certifi; extra == \"secure\" in d:\\anaconda\\lib\\site-packages (from urllib3[secure]~=1.26->selenium) (2021.5.30)\n",
      "Requirement already satisfied: cryptography>=1.3.4; extra == \"secure\" in d:\\anaconda\\lib\\site-packages (from urllib3[secure]~=1.26->selenium) (3.1.1)\n",
      "Requirement already satisfied: pyOpenSSL>=0.14; extra == \"secure\" in d:\\anaconda\\lib\\site-packages (from urllib3[secure]~=1.26->selenium) (19.1.0)\n",
      "Requirement already satisfied: wsproto>=0.14 in d:\\anaconda\\lib\\site-packages (from trio-websocket~=0.9->selenium) (1.0.0)\n",
      "Requirement already satisfied: pycparser in d:\\anaconda\\lib\\site-packages (from cffi>=1.14; os_name == \"nt\" and implementation_name != \"pypy\"->trio~=0.17->selenium) (2.20)\n",
      "Requirement already satisfied: six>=1.4.1 in d:\\anaconda\\lib\\site-packages (from cryptography>=1.3.4; extra == \"secure\"->urllib3[secure]~=1.26->selenium) (1.15.0)\n",
      "Requirement already satisfied: h11<1,>=0.9.0 in d:\\anaconda\\lib\\site-packages (from wsproto>=0.14->trio-websocket~=0.9->selenium) (0.12.0)\n"
     ]
    }
   ],
   "source": [
    "!pip install selenium"
   ]
  },
  {
   "cell_type": "code",
   "execution_count": 19,
   "metadata": {},
   "outputs": [],
   "source": [
    "from selenium import webdriver"
   ]
  },
  {
   "cell_type": "code",
   "execution_count": 20,
   "metadata": {},
   "outputs": [],
   "source": [
    "IS_LINUX = False"
   ]
  },
  {
   "cell_type": "code",
   "execution_count": 59,
   "metadata": {},
   "outputs": [
    {
     "name": "stderr",
     "output_type": "stream",
     "text": [
      "<ipython-input-59-c04fabf30ce4>:1: DeprecationWarning: executable_path has been deprecated, please pass in a Service object\n",
      "  chrome = webdriver.Chrome(executable_path=\"./chromedriver\" if not IS_LINUX else \"./chromedriver_linux\")\n"
     ]
    }
   ],
   "source": [
    "chrome = webdriver.Chrome(executable_path=\"./chromedriver\" if not IS_LINUX else \"./chromedriver_linux\")"
   ]
  },
  {
   "cell_type": "markdown",
   "metadata": {},
   "source": [
    "Vous devez voir apparaître une nouvelle instance de votre navigateur. Si vous voulez accéder à une page : "
   ]
  },
  {
   "cell_type": "code",
   "execution_count": 85,
   "metadata": {},
   "outputs": [],
   "source": [
    "chrome.get(\"https://www.amazon.fr\")"
   ]
  },
  {
   "cell_type": "markdown",
   "metadata": {},
   "source": [
    "Allez maintenant voir votre fenêtre. Vous êtes sur le site d'amazon. Vous pouvez maintenant vous déplacer dans la page. Pour cela il va falloir inspecter le code source de la page.\n",
    "\n",
    "Il existe de nombreuse méthode pour récupérer les éléments par exemple `find_element_by_link_text` qui permet de récupérer un élément grâce au text affiché. Ici, si on veut récupérer toutes les `Ventes Flash`\n",
    "\n",
    "现在到你的窗口去。你在亚马逊的网站上。你现在可以在页面上移动。要做到这一点，你将需要检查页面的源代码。\n",
    "\n",
    "有许多方法来检索元素，例如find_element_by_link_text，它允许你根据显示的文本来检索一个元素。在这里，如果我们想检索所有的Flash销售"
   ]
  },
  {
   "cell_type": "code",
   "execution_count": 97,
   "metadata": {},
   "outputs": [
    {
     "name": "stderr",
     "output_type": "stream",
     "text": [
      "<ipython-input-97-7ed59ca4d402>:1: DeprecationWarning: find_element_by_* commands are deprecated. Please use find_element() instead\n",
      "  link = chrome.find_element_by_link_text(\"Voir les Ventes Flash\")\n"
     ]
    },
    {
     "data": {
      "text/plain": [
       "selenium.webdriver.remote.webelement.WebElement"
      ]
     },
     "execution_count": 97,
     "metadata": {},
     "output_type": "execute_result"
    }
   ],
   "source": [
    "link = chrome.find_element_by_link_text(\"Voir les Ventes Flash\")\n",
    "type(link)"
   ]
  },
  {
   "cell_type": "code",
   "execution_count": 98,
   "metadata": {},
   "outputs": [],
   "source": [
    "#from selenium.webdriver.common.by import By"
   ]
  },
  {
   "cell_type": "code",
   "execution_count": 99,
   "metadata": {
    "scrolled": true
   },
   "outputs": [],
   "source": [
    "#link = chrome.find_element(By.LINK_TEXT,\"Ventes Flash\")\n",
    "#type(link)"
   ]
  },
  {
   "cell_type": "markdown",
   "metadata": {},
   "source": [
    "Si on veut entrer dans le lien, il suffit d'appeler la méthode `click`.\n",
    "\n",
    "如果你想输入链接，只需调用点击方法。"
   ]
  },
  {
   "cell_type": "code",
   "execution_count": 100,
   "metadata": {},
   "outputs": [
    {
     "data": {
      "text/plain": [
       "<selenium.webdriver.remote.webelement.WebElement (session=\"f93a56b7a01ba9ec1e81f41b78cef10e\", element=\"e6d9be33-e9d7-4dcf-ac14-872099b21531\")>"
      ]
     },
     "execution_count": 100,
     "metadata": {},
     "output_type": "execute_result"
    }
   ],
   "source": [
    "link\n"
   ]
  },
  {
   "cell_type": "code",
   "execution_count": 101,
   "metadata": {},
   "outputs": [],
   "source": [
    "link.click()"
   ]
  },
  {
   "cell_type": "markdown",
   "metadata": {},
   "source": [
    "Vous êtes arrivé sur la page des ventes flash. Maintenant nous allons récupérer toutes les ventes actuelles. On remarque que les ventes sont stockés dans des widgets qui porte l'id `widgetContent`.\n",
    ">您已到达闪电销售页面。现在我们要检索所有当前的销售情况。请注意，销售被存储在id为`widgetContent`的部件中。"
   ]
  },
  {
   "cell_type": "code",
   "execution_count": 105,
   "metadata": {},
   "outputs": [
    {
     "name": "stderr",
     "output_type": "stream",
     "text": [
      "<ipython-input-105-48fb2dc32df1>:1: DeprecationWarning: find_elements_by_* commands are deprecated. Please use find_elements() instead\n",
      "  all_widgets = chrome.find_elements_by_id(\"a-page\")\n"
     ]
    },
    {
     "data": {
      "text/plain": [
       "(list, 1)"
      ]
     },
     "execution_count": 105,
     "metadata": {},
     "output_type": "execute_result"
    }
   ],
   "source": [
    "all_widgets = chrome.find_elements_by_id(\"a-page\")\n",
    "type(all_widgets), len(all_widgets)"
   ]
  },
  {
   "cell_type": "markdown",
   "metadata": {},
   "source": [
    "On obtient une liste d'éléments décrits par cet identifiant. Il y en a 5, un pour chaque ligne. Pour récupérer les différentes offres de la première ligne. on récupère les sections correspondantes: "
   ]
  },
  {
   "cell_type": "code",
   "execution_count": 106,
   "metadata": {},
   "outputs": [
    {
     "name": "stderr",
     "output_type": "stream",
     "text": [
      "D:\\anaconda\\lib\\site-packages\\selenium\\webdriver\\remote\\webelement.py:463: UserWarning: find_elements_by_* commands are deprecated. Please use find_elements() instead\n",
      "  warnings.warn(\"find_elements_by_* commands are deprecated. Please use find_elements() instead\")\n"
     ]
    },
    {
     "data": {
      "text/plain": [
       "7"
      ]
     },
     "execution_count": 106,
     "metadata": {},
     "output_type": "execute_result"
    }
   ],
   "source": [
    "first_line = all_widgets[0]\n",
    "all_first_line_elements = first_line.find_elements_by_class_name('a-section')\n",
    "len(all_first_line_elements)"
   ]
  },
  {
   "cell_type": "markdown",
   "metadata": {},
   "source": [
    "Pour récupérer le text maintenant : "
   ]
  },
  {
   "cell_type": "code",
   "execution_count": 107,
   "metadata": {},
   "outputs": [
    {
     "name": "stdout",
     "output_type": "stream",
     "text": [
      "Toutes les offres\n",
      "Offres éclair\n",
      "Appareils Amazon\n",
      "Moins de 20€\n",
      "Informatique et logiciels\n",
      "Cuisine et maison\n",
      "Téléphones et accessoires\n",
      "Bricolage et jardin\n",
      "\n",
      "Ventes Flash sur les appareils Amazon\n",
      "Page 1 sur 9\n",
      "Offre Black Friday\n",
      "22,99€\n",
      "Prix conseillé : 39,99€ -43%\n",
      "Fire TV Stick\n",
      "7 382\n",
      "Termine dans : 6 jours\n",
      "Offre Black Friday\n",
      "39,99€\n",
      "Prix conseillé : 69,99€ -43%\n",
      "Echo Dot avec horloge (4e génération)\n",
      "Termine dans : 7 jours\n",
      "Offre Black Friday\n",
      "54,99€–64,99€\n",
      "Kindle\n",
      "Termine dans : 6 jours\n",
      "\n",
      "Ventes Flash sur les appareils Amazon\n",
      "Page 1 sur 9\n",
      "Offre Black Friday\n",
      "22,99€\n",
      "Prix conseillé : 39,99€ -43%\n",
      "Fire TV Stick\n",
      "7 382\n",
      "Termine dans : 6 jours\n",
      "Offre Black Friday\n",
      "39,99€\n",
      "Prix conseillé : 69,99€ -43%\n",
      "Echo Dot avec horloge (4e génération)\n",
      "Termine dans : 7 jours\n",
      "Offre Black Friday\n",
      "54,99€–64,99€\n",
      "Kindle\n",
      "Termine dans : 6 jours\n",
      "\n",
      "Ventes Flash sur les appareils Amazon\n",
      "Page 1 sur 9\n",
      "\n",
      "Ventes Flash sur les marques Amazon\n",
      "Page 1 sur 12\n",
      "Offre Black Friday\n",
      "5,96€–32,35€\n",
      "Produits du quotidien des marques exclusives Amazon\n",
      "Termine dans : 6 jours\n",
      "Offre Black Friday\n",
      "6,55€–59,77€\n",
      "Marque Amazon : sélection de vêtements\n",
      "Termine dans : 6 jours\n",
      "Offre Black Friday\n",
      "9,69€–43,89€\n",
      "Multipacks pour hommes: marques Amazon\n",
      "\n",
      "Ventes Flash sur les marques Amazon\n",
      "Page 1 sur 12\n",
      "Offre Black Friday\n",
      "5,96€–32,35€\n",
      "Produits du quotidien des marques exclusives Amazon\n",
      "Termine dans : 6 jours\n",
      "Offre Black Friday\n",
      "6,55€–59,77€\n",
      "Marque Amazon : sélection de vêtements\n",
      "Termine dans : 6 jours\n",
      "Offre Black Friday\n",
      "9,69€–43,89€\n",
      "Multipacks pour hommes: marques Amazon\n",
      "\n",
      "Ventes Flash sur les marques Amazon\n",
      "Page 1 sur 12\n",
      "\n"
     ]
    }
   ],
   "source": [
    "_ = [print(elt.text+ \"\\n\")  for elt in all_first_line_elements]"
   ]
  },
  {
   "cell_type": "markdown",
   "metadata": {},
   "source": [
    "Si vous êtes fan de JavaScript vous pouvez même injecter du code JS dans le navigateur depuis Python pour exécuter des opérations complexes. \\\n",
    ">如果你是一个JavaScript爱好者，你甚至可以从Python中向浏览器注入JS代码以执行复杂的操作。"
   ]
  },
  {
   "cell_type": "code",
   "execution_count": 108,
   "metadata": {},
   "outputs": [],
   "source": [
    "js_script = \"\"\"\n",
    "const class_name = 'DRIOC'\n",
    "console.log(`Hi from ${class_name}`)\n",
    "\"\"\""
   ]
  },
  {
   "cell_type": "code",
   "execution_count": 72,
   "metadata": {},
   "outputs": [],
   "source": [
    "chrome.execute_script(js_script)"
   ]
  },
  {
   "cell_type": "markdown",
   "metadata": {},
   "source": [
    "Vous pouvez aller vérifier dans la console Javascript du navigateur que le message apparait bien. "
   ]
  },
  {
   "cell_type": "markdown",
   "metadata": {},
   "source": [
    "# Exercice"
   ]
  },
  {
   "cell_type": "markdown",
   "metadata": {},
   "source": [
    "## Exercice 1"
   ]
  },
  {
   "cell_type": "markdown",
   "metadata": {},
   "source": [
    "Extraire le prix des offres :\n",
    "\n",
    "从报价中提取价格:"
   ]
  },
  {
   "cell_type": "code",
   "execution_count": 118,
   "metadata": {},
   "outputs": [
    {
     "name": "stderr",
     "output_type": "stream",
     "text": [
      "<ipython-input-118-d275b5fecba7>:3: DeprecationWarning: find_elements_by_* commands are deprecated. Please use find_elements() instead\n",
      "  all_widgets = chrome.find_elements_by_id(\"slot-6\")\n"
     ]
    },
    {
     "name": "stdout",
     "output_type": "stream",
     "text": [
      "22,99\n",
      "\n",
      "39,99\n",
      "\n",
      "19,99\n",
      "\n",
      "49,99\n",
      "\n",
      "267,25\n",
      "\n",
      "337,88\n",
      "\n",
      "279,00\n",
      "\n",
      "1 499,00\n",
      "\n",
      "199,90\n",
      "\n",
      "329,90\n",
      "\n",
      "4,80\n",
      "\n",
      "999,00\n",
      "\n",
      "12,99\n",
      "\n",
      "289,99\n",
      "\n",
      "249,00\n",
      "\n",
      "1 699,00\n",
      "\n",
      "38,99\n",
      "\n",
      "64,99\n",
      "\n",
      "44,99\n",
      "\n",
      "84,99\n",
      "\n",
      "99,00\n",
      "\n",
      "599,99\n",
      "\n",
      "19,99\n",
      "\n",
      "89,99\n",
      "\n",
      "799,00\n",
      "\n",
      "1 299,00\n",
      "\n",
      "24,90\n",
      "\n",
      "37,90\n",
      "\n",
      "98,00\n",
      "\n",
      "829,00\n",
      "\n",
      "11,99\n",
      "\n",
      "789,99\n",
      "\n",
      "59,99\n",
      "\n",
      "199,99\n",
      "\n",
      "10,99\n",
      "\n",
      "413,99\n",
      "\n",
      "22,99\n",
      "\n",
      "319,99\n",
      "\n",
      "9,90\n",
      "\n",
      "73,99\n",
      "\n",
      "21,99\n",
      "\n",
      "299,99\n",
      "\n",
      "71,99\n",
      "\n",
      "209,99\n",
      "\n",
      "23,90\n",
      "\n",
      "849,99\n",
      "\n",
      "99,99\n",
      "\n",
      "699,00\n",
      "\n",
      "9,01\n",
      "\n",
      "224,99\n",
      "\n",
      "4,54\n",
      "\n",
      "37,32\n",
      "\n",
      "199,00\n",
      "\n",
      "599,00\n",
      "\n",
      "11,99\n",
      "\n",
      "269,99\n",
      "\n",
      "16,99\n",
      "\n",
      "123,88\n",
      "\n",
      "5,10\n",
      "\n",
      "214,99\n",
      "\n",
      "41,99\n",
      "\n",
      "369,99\n",
      "\n",
      "59,90\n",
      "\n",
      "113,99\n",
      "\n",
      "299,99\n",
      "\n",
      "799,00\n",
      "\n",
      "19,99\n",
      "\n",
      "149,99\n",
      "\n",
      "39,99\n",
      "\n",
      "59,99\n",
      "\n",
      "4,16\n",
      "\n",
      "199,99\n",
      "\n",
      "32,99\n",
      "\n",
      "143,99\n",
      "\n",
      "1,25\n",
      "\n",
      "159,99\n",
      "\n",
      "399,00\n",
      "\n",
      "1 499,00\n",
      "\n",
      "20,99\n",
      "\n",
      "329,99\n",
      "\n",
      "129,99\n",
      "\n",
      "435,90\n",
      "\n",
      "13,99\n",
      "\n",
      "119,99\n",
      "\n",
      "17,99\n",
      "\n",
      "26,99\n",
      "\n",
      "2,79\n",
      "\n",
      "39,92\n",
      "\n",
      "230,30\n",
      "\n",
      "329,00\n",
      "\n",
      "18,59\n",
      "\n",
      "399,99\n",
      "\n",
      "21,50\n",
      "\n",
      "45,00\n",
      "\n",
      "59,99\n",
      "\n",
      "899,00\n",
      "\n",
      "15,65\n",
      "\n",
      "69,00\n",
      "\n",
      "73,99\n",
      "\n",
      "520,99\n",
      "\n",
      "109,99\n",
      "\n",
      "169,00\n",
      "\n",
      "7,99\n",
      "\n",
      "279,99\n",
      "\n",
      "96,00\n",
      "\n",
      "319,00\n",
      "\n",
      "347,45\n",
      "\n",
      "838,56\n",
      "\n",
      "69,99\n",
      "\n",
      "169,99\n",
      "\n",
      "2,73\n",
      "\n",
      "34,50\n",
      "\n",
      "12,99\n",
      "\n",
      "199,99\n",
      "\n",
      "7,90\n",
      "\n",
      "449,99\n",
      "\n",
      "18,38\n",
      "\n",
      "210,04\n",
      "\n"
     ]
    },
    {
     "ename": "NotImplementedError",
     "evalue": "Need to be implemented",
     "output_type": "error",
     "traceback": [
      "\u001b[1;31m---------------------------------------------------------------------------\u001b[0m",
      "\u001b[1;31mNotImplementedError\u001b[0m                       Traceback (most recent call last)",
      "\u001b[1;32m<ipython-input-118-d275b5fecba7>\u001b[0m in \u001b[0;36m<module>\u001b[1;34m\u001b[0m\n\u001b[0;32m     10\u001b[0m     \u001b[1;32mpass\u001b[0m\u001b[1;33m\u001b[0m\u001b[1;33m\u001b[0m\u001b[0m\n\u001b[0;32m     11\u001b[0m \u001b[1;33m\u001b[0m\u001b[0m\n\u001b[1;32m---> 12\u001b[1;33m \u001b[0mextract_price\u001b[0m\u001b[1;33m(\u001b[0m\u001b[0mall_first_line_elements\u001b[0m\u001b[1;33m[\u001b[0m\u001b[1;36m0\u001b[0m\u001b[1;33m]\u001b[0m\u001b[1;33m)\u001b[0m\u001b[1;33m\u001b[0m\u001b[1;33m\u001b[0m\u001b[0m\n\u001b[0m",
      "\u001b[1;32m<ipython-input-118-d275b5fecba7>\u001b[0m in \u001b[0;36mextract_price\u001b[1;34m(offer_web_element)\u001b[0m\n\u001b[0;32m      7\u001b[0m \u001b[1;33m\u001b[0m\u001b[0m\n\u001b[0;32m      8\u001b[0m \u001b[1;33m\u001b[0m\u001b[0m\n\u001b[1;32m----> 9\u001b[1;33m     \u001b[1;32mraise\u001b[0m \u001b[0mNotImplementedError\u001b[0m\u001b[1;33m(\u001b[0m\u001b[1;34m'Need to be implemented'\u001b[0m\u001b[1;33m)\u001b[0m\u001b[1;33m\u001b[0m\u001b[1;33m\u001b[0m\u001b[0m\n\u001b[0m\u001b[0;32m     10\u001b[0m     \u001b[1;32mpass\u001b[0m\u001b[1;33m\u001b[0m\u001b[1;33m\u001b[0m\u001b[0m\n\u001b[0;32m     11\u001b[0m \u001b[1;33m\u001b[0m\u001b[0m\n",
      "\u001b[1;31mNotImplementedError\u001b[0m: Need to be implemented"
     ]
    }
   ],
   "source": [
    "def extract_price(offer_web_element):\n",
    "    \n",
    "    all_widgets = chrome.find_elements_by_id(\"slot-6\")\n",
    "    first_line = all_widgets[0]\n",
    "    all_first_line_elements = first_line.find_elements_by_class_name('a-price-whole')\n",
    "    offer_web_element = [print(elt.text+ \"\\n\")  for elt in all_first_line_elements]\n",
    "\n",
    "\n",
    "    raise NotImplementedError('Need to be implemented')\n",
    "    pass\n",
    "    \n",
    "extract_price(all_first_line_elements[0])"
   ]
  },
  {
   "cell_type": "markdown",
   "metadata": {},
   "source": [
    "Extraire l'image de l'offre: \n",
    "\n",
    ">https://blog.csdn.net/seanwang_25/article/details/43317147"
   ]
  },
  {
   "cell_type": "code",
   "execution_count": 121,
   "metadata": {},
   "outputs": [
    {
     "name": "stderr",
     "output_type": "stream",
     "text": [
      "<ipython-input-121-3de59d0b6ae6>:2: DeprecationWarning: find_elements_by_* commands are deprecated. Please use find_elements() instead\n",
      "  all_widgets = chrome.find_elements_by_id(\"slot-6\")\n"
     ]
    },
    {
     "ename": "AttributeError",
     "evalue": "'WebElement' object has no attribute 'find_elements_by_src_name'",
     "output_type": "error",
     "traceback": [
      "\u001b[1;31m---------------------------------------------------------------------------\u001b[0m",
      "\u001b[1;31mAttributeError\u001b[0m                            Traceback (most recent call last)",
      "\u001b[1;32m<ipython-input-121-3de59d0b6ae6>\u001b[0m in \u001b[0;36m<module>\u001b[1;34m\u001b[0m\n\u001b[0;32m      9\u001b[0m     \u001b[1;32mpass\u001b[0m\u001b[1;33m\u001b[0m\u001b[1;33m\u001b[0m\u001b[0m\n\u001b[0;32m     10\u001b[0m \u001b[1;33m\u001b[0m\u001b[0m\n\u001b[1;32m---> 11\u001b[1;33m \u001b[0mextract_image\u001b[0m\u001b[1;33m(\u001b[0m\u001b[0mall_first_line_elements\u001b[0m\u001b[1;33m[\u001b[0m\u001b[1;36m0\u001b[0m\u001b[1;33m]\u001b[0m\u001b[1;33m)\u001b[0m\u001b[1;33m\u001b[0m\u001b[1;33m\u001b[0m\u001b[0m\n\u001b[0m",
      "\u001b[1;32m<ipython-input-121-3de59d0b6ae6>\u001b[0m in \u001b[0;36mextract_image\u001b[1;34m(offer_web_element)\u001b[0m\n\u001b[0;32m      2\u001b[0m     \u001b[0mall_widgets\u001b[0m \u001b[1;33m=\u001b[0m \u001b[0mchrome\u001b[0m\u001b[1;33m.\u001b[0m\u001b[0mfind_elements_by_id\u001b[0m\u001b[1;33m(\u001b[0m\u001b[1;34m\"slot-6\"\u001b[0m\u001b[1;33m)\u001b[0m\u001b[1;33m\u001b[0m\u001b[1;33m\u001b[0m\u001b[0m\n\u001b[0;32m      3\u001b[0m     \u001b[0mfirst_line\u001b[0m \u001b[1;33m=\u001b[0m \u001b[0mall_widgets\u001b[0m\u001b[1;33m[\u001b[0m\u001b[1;36m0\u001b[0m\u001b[1;33m]\u001b[0m\u001b[1;33m\u001b[0m\u001b[1;33m\u001b[0m\u001b[0m\n\u001b[1;32m----> 4\u001b[1;33m     \u001b[0mall_first_line_elements\u001b[0m \u001b[1;33m=\u001b[0m \u001b[0mfirst_line\u001b[0m\u001b[1;33m.\u001b[0m\u001b[0mfind_elements_by_src_name\u001b[0m\u001b[1;33m(\u001b[0m\u001b[1;34m\"a-row a-spacing-small\"\u001b[0m\u001b[1;33m)\u001b[0m\u001b[1;33m\u001b[0m\u001b[1;33m\u001b[0m\u001b[0m\n\u001b[0m\u001b[0;32m      5\u001b[0m     \u001b[0moffer_web_element\u001b[0m \u001b[1;33m=\u001b[0m \u001b[1;33m[\u001b[0m\u001b[0mprint\u001b[0m\u001b[1;33m(\u001b[0m\u001b[0melt\u001b[0m\u001b[1;33m.\u001b[0m\u001b[0mtext\u001b[0m\u001b[1;33m+\u001b[0m \u001b[1;34m\"\\n\"\u001b[0m\u001b[1;33m)\u001b[0m  \u001b[1;32mfor\u001b[0m \u001b[0melt\u001b[0m \u001b[1;32min\u001b[0m \u001b[0mall_first_line_elements\u001b[0m\u001b[1;33m]\u001b[0m\u001b[1;33m\u001b[0m\u001b[1;33m\u001b[0m\u001b[0m\n\u001b[0;32m      6\u001b[0m \u001b[1;33m\u001b[0m\u001b[0m\n",
      "\u001b[1;31mAttributeError\u001b[0m: 'WebElement' object has no attribute 'find_elements_by_src_name'"
     ]
    }
   ],
   "source": [
    "def extract_image(offer_web_element):\n",
    "    all_widgets = chrome.find_elements_by_id(\"slot-6\")\n",
    "    first_line = all_widgets[0]\n",
    "    all_first_line_elements = first_line.find_elements_by__name(\"a-row a-spacing-small\")\n",
    "    offer_web_element = [print(elt.text+ \"\\n\")  for elt in all_first_line_elements]\n",
    "\n",
    "        \n",
    "    raise NotImplementedError('Need to be implemented')\n",
    "    pass\n",
    "\n",
    "extract_image(all_first_line_elements[0])"
   ]
  },
  {
   "cell_type": "markdown",
   "metadata": {},
   "source": [
    "Extraire le titre de l'offre: "
   ]
  },
  {
   "cell_type": "code",
   "execution_count": 79,
   "metadata": {},
   "outputs": [
    {
     "ename": "NotImplementedError",
     "evalue": "Need to be implemented",
     "output_type": "error",
     "traceback": [
      "\u001b[0;31m---------------------------------------------------------------------------\u001b[0m",
      "\u001b[0;31mNotImplementedError\u001b[0m                       Traceback (most recent call last)",
      "\u001b[0;32m<ipython-input-79-a4f7a74d5827>\u001b[0m in \u001b[0;36m<module>\u001b[0;34m()\u001b[0m\n\u001b[1;32m      3\u001b[0m     \u001b[0;32mpass\u001b[0m\u001b[0;34m\u001b[0m\u001b[0m\n\u001b[1;32m      4\u001b[0m \u001b[0;34m\u001b[0m\u001b[0m\n\u001b[0;32m----> 5\u001b[0;31m \u001b[0mextract_title\u001b[0m\u001b[0;34m(\u001b[0m\u001b[0mall_first_line_elements\u001b[0m\u001b[0;34m[\u001b[0m\u001b[0;36m0\u001b[0m\u001b[0;34m]\u001b[0m\u001b[0;34m)\u001b[0m\u001b[0;34m\u001b[0m\u001b[0m\n\u001b[0m",
      "\u001b[0;32m<ipython-input-79-a4f7a74d5827>\u001b[0m in \u001b[0;36mextract_title\u001b[0;34m(offer_web_element)\u001b[0m\n\u001b[1;32m      1\u001b[0m \u001b[0;32mdef\u001b[0m \u001b[0mextract_title\u001b[0m\u001b[0;34m(\u001b[0m\u001b[0moffer_web_element\u001b[0m\u001b[0;34m)\u001b[0m\u001b[0;34m:\u001b[0m\u001b[0;34m\u001b[0m\u001b[0m\n\u001b[0;32m----> 2\u001b[0;31m     \u001b[0;32mraise\u001b[0m \u001b[0mNotImplementedError\u001b[0m\u001b[0;34m(\u001b[0m\u001b[0;34m'Need to be implemented'\u001b[0m\u001b[0;34m)\u001b[0m\u001b[0;34m\u001b[0m\u001b[0m\n\u001b[0m\u001b[1;32m      3\u001b[0m     \u001b[0;32mpass\u001b[0m\u001b[0;34m\u001b[0m\u001b[0m\n\u001b[1;32m      4\u001b[0m \u001b[0;34m\u001b[0m\u001b[0m\n\u001b[1;32m      5\u001b[0m \u001b[0mextract_title\u001b[0m\u001b[0;34m(\u001b[0m\u001b[0mall_first_line_elements\u001b[0m\u001b[0;34m[\u001b[0m\u001b[0;36m0\u001b[0m\u001b[0;34m]\u001b[0m\u001b[0;34m)\u001b[0m\u001b[0;34m\u001b[0m\u001b[0m\n",
      "\u001b[0;31mNotImplementedError\u001b[0m: Need to be implemented"
     ]
    }
   ],
   "source": [
    "def extract_title(offer_web_element):\n",
    "    raise NotImplementedError('Need to be implemented')\n",
    "    pass\n",
    "\n",
    "extract_title(all_first_line_elements[0])"
   ]
  },
  {
   "cell_type": "code",
   "execution_count": 80,
   "metadata": {},
   "outputs": [],
   "source": [
    "chrome.close()"
   ]
  }
 ],
 "metadata": {
  "kernelspec": {
   "display_name": "Python 3",
   "language": "python",
   "name": "python3"
  },
  "language_info": {
   "codemirror_mode": {
    "name": "ipython",
    "version": 3
   },
   "file_extension": ".py",
   "mimetype": "text/x-python",
   "name": "python",
   "nbconvert_exporter": "python",
   "pygments_lexer": "ipython3",
   "version": "3.8.5"
  }
 },
 "nbformat": 4,
 "nbformat_minor": 2
}
